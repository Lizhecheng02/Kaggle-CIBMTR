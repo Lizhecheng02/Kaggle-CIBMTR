{
 "cells": [
  {
   "cell_type": "code",
   "execution_count": null,
   "metadata": {},
   "outputs": [],
   "source": [
    "import pandas as pd\n",
    "import numpy as np\n",
    "import torch\n",
    "import wandb\n",
    "from datasets import Dataset\n",
    "from sklearn.model_selection import StratifiedKFold\n",
    "from sklearn.metrics import mean_squared_error\n",
    "from lifelines import KaplanMeierFitter, CoxPHFitter, NelsonAalenFitter\n",
    "from transformers import AutoTokenizer, AutoModelForSequenceClassification, TrainingArguments, Trainer"
   ]
  },
  {
   "cell_type": "code",
   "execution_count": 2,
   "metadata": {},
   "outputs": [],
   "source": [
    "train = pd.read_csv(\"../data/train.csv\")"
   ]
  },
  {
   "cell_type": "code",
   "execution_count": null,
   "metadata": {},
   "outputs": [],
   "source": [
    "cat_cols = []\n",
    "num_cols = []\n",
    "RMV = [\"ID\", \"efs\", \"efs_time\", \"target\"]\n",
    "FEATURES = [c for c in train.columns if not c in RMV]\n",
    "print(f\"There are {len(FEATURES)} FEATURES: {FEATURES}\")\n",
    "\n",
    "for c in FEATURES:\n",
    "    if train[c].dtype == \"object\" or train[c].dtype == \"category\":\n",
    "        cat_cols.append(c)\n",
    "    else:\n",
    "        num_cols.append(c)\n",
    "print(f\"In these features, there are {len(cat_cols)} CATEGORICAL FEATURES: {cat_cols}\")"
   ]
  },
  {
   "cell_type": "code",
   "execution_count": 4,
   "metadata": {},
   "outputs": [],
   "source": [
    "def update_target_with_survival_probabilities(df, method=\"kaplan\", time_col=\"efs_time\", event_col=\"efs\"):\n",
    "    res = np.zeros(df.shape[0])\n",
    "    skf = StratifiedKFold(n_splits=10, shuffle=True, random_state=42)\n",
    "    for train_idx, val_idx in skf.split(df, df[\"race_group\"]):\n",
    "        X_trn, X_val = df.iloc[train_idx], train.iloc[val_idx]\n",
    "        if method == \"kaplan\":\n",
    "            kmf = KaplanMeierFitter()\n",
    "            kmf.fit(durations=X_trn[time_col], event_observed=X_trn[event_col])\n",
    "            res[val_idx] = kmf.survival_function_at_times(X_val[time_col]).values\n",
    "        elif method == \"nelson\":\n",
    "            naf = NelsonAalenFitter()\n",
    "            naf.fit(durations=X_trn[time_col], event_observed=X_trn[event_col])\n",
    "            res[val_idx] = -naf.cumulative_hazard_at_times(X_val[time_col]).values\n",
    "        else:\n",
    "            data_trn = pd.get_dummies(X_trn, columns=cat_cols, drop_first=True).drop(\"ID\", axis=1)\n",
    "            data_val = pd.get_dummies(X_val, columns=cat_cols, drop_first=True).drop(\"ID\", axis=1)\n",
    "            train_data = data_trn.loc[:, data_trn.nunique() > 1]\n",
    "            valid_data = data_val[train_data.columns]\n",
    "            cph = CoxPHFitter(penalizer=0.01)\n",
    "            cph.fit(train_data, duration_col=time_col, event_col=event_col)\n",
    "            res[val_idx] = cph.predict_partial_hazard(valid_data).values\n",
    "    df[\"target\"] = res\n",
    "    df.loc[df[event_col] == 0, \"target\"] -= 0.15\n",
    "    return df"
   ]
  },
  {
   "cell_type": "code",
   "execution_count": null,
   "metadata": {},
   "outputs": [],
   "source": [
    "train = update_target_with_survival_probabilities(train, method=\"kaplan\", time_col=\"efs_time\", event_col=\"efs\")\n",
    "train.head()"
   ]
  },
  {
   "cell_type": "code",
   "execution_count": 6,
   "metadata": {},
   "outputs": [],
   "source": [
    "def update(df):\n",
    "    global cat_cols\n",
    "    for c in cat_cols:\n",
    "        df[c] = df[c].astype(str).fillna(\"Unknown\").astype(\"category\")\n",
    "    for c in num_cols:\n",
    "        if df[c].dtype == \"float64\":\n",
    "            df[c] = df[c].fillna(0).astype(\"float32\")\n",
    "        if df[c].dtype == \"int64\":\n",
    "            df[c] = df[c].fillna(0).astype(\"int32\")\n",
    "    j_ch = ',[]{}:\"\\\\<'\n",
    "    for ch in j_ch:\n",
    "        for c in cat_cols:\n",
    "            df[c] = df[c].apply(lambda x: str(x).replace(ch, \"\"))\n",
    "    return df\n",
    "\n",
    "\n",
    "train = update(train)"
   ]
  },
  {
   "cell_type": "code",
   "execution_count": null,
   "metadata": {},
   "outputs": [],
   "source": [
    "RMV = [\"ID\", \"efs\", \"efs_time\", \"target\"]\n",
    "FEATURES = [c for c in train.columns if not c in RMV]\n",
    "\n",
    "\n",
    "def create_text(row):\n",
    "    text = []\n",
    "    for col in FEATURES:\n",
    "        text.append(f\"{col}: {row[col]}\")\n",
    "    return \"\\n\".join(text)\n",
    "\n",
    "\n",
    "train[\"text\"] = train.apply(create_text, axis=1)\n",
    "train[\"text\"]"
   ]
  },
  {
   "cell_type": "code",
   "execution_count": null,
   "metadata": {},
   "outputs": [],
   "source": [
    "train.head()"
   ]
  },
  {
   "cell_type": "code",
   "execution_count": null,
   "metadata": {},
   "outputs": [],
   "source": [
    "skf = StratifiedKFold(n_splits=10, random_state=42, shuffle=True)\n",
    "for i, (train_index, val_index) in enumerate(skf.split(train, train[\"race_group\"])):\n",
    "    train.loc[val_index, \"fold\"] = int(i)\n",
    "train.head()"
   ]
  },
  {
   "cell_type": "code",
   "execution_count": null,
   "metadata": {},
   "outputs": [],
   "source": [
    "train[\"fold\"].value_counts()"
   ]
  },
  {
   "cell_type": "code",
   "execution_count": null,
   "metadata": {},
   "outputs": [],
   "source": [
    "train_df = train[train[\"fold\"] != 0.0]\n",
    "train_df = train_df[[\"text\", \"target\"]].sample(frac=1.0, random_state=42)\n",
    "val_df = train[train[\"fold\"] == 0.0]\n",
    "val_df = val_df[[\"text\", \"target\"]].sample(frac=1.0, random_state=42)\n",
    "print(f\"Train shape: {train_df.shape}, Val shape: {val_df.shape}\")\n",
    "train_df.head()"
   ]
  },
  {
   "cell_type": "code",
   "execution_count": null,
   "metadata": {},
   "outputs": [],
   "source": [
    "train_df.rename(columns={\"target\": \"labels\"}, inplace=True)\n",
    "val_df.rename(columns={\"target\": \"labels\"}, inplace=True)\n",
    "train_df.head()"
   ]
  },
  {
   "cell_type": "code",
   "execution_count": 13,
   "metadata": {},
   "outputs": [],
   "source": [
    "MAX_LENGTH = 2048\n",
    "MODEL_NAME = \"microsoft/deberta-v3-base\"\n",
    "LEARNING_RATE = 5e-5\n",
    "BATCH_SIZE = 1\n",
    "ACCUMULATION_STEPS = 16\n",
    "WARMUP_RATIO = 0.1\n",
    "EPOCHS = 3\n",
    "WEIGHT_DECAY = 0.0001\n",
    "FOLD_ID = 0\n",
    "STEPS = 100\n",
    "SAVE_TOTAL_LIMIT = 10\n",
    "LR_SCHEDULER = \"cosine\"\n",
    "\n",
    "tokenizer = AutoTokenizer.from_pretrained(MODEL_NAME)\n",
    "\n",
    "\n",
    "def tokenize(sample):\n",
    "    return tokenizer(sample[\"text\"], max_length=MAX_LENGTH, truncation=True)\n",
    "\n",
    "\n",
    "ds_train = Dataset.from_pandas(train_df)\n",
    "ds_val = Dataset.from_pandas(val_df)\n",
    "\n",
    "ds_train = ds_train.map(tokenize).remove_columns([\"text\"])\n",
    "ds_val = ds_val.map(tokenize).remove_columns([\"text\"])\n",
    "\n",
    "model = AutoModelForSequenceClassification.from_pretrained(\n",
    "    MODEL_NAME,\n",
    "    num_labels=1,\n",
    "    trust_remote_code=True\n",
    ")\n",
    "\n",
    "\n",
    "class DataCollator:\n",
    "    def __call__(self, features):\n",
    "        model_inputs = [\n",
    "            {\n",
    "                \"input_ids\": feature[\"input_ids\"],\n",
    "                \"attention_mask\": feature[\"attention_mask\"],\n",
    "                \"labels\": feature[\"labels\"]\n",
    "            } for feature in features\n",
    "        ]\n",
    "        batch = tokenizer.pad(\n",
    "            model_inputs,\n",
    "            padding=\"max_length\",\n",
    "            max_length=MAX_LENGTH,\n",
    "            return_tensors=\"pt\",\n",
    "            pad_to_multiple_of=8\n",
    "        )\n",
    "        return batch\n",
    "\n",
    "\n",
    "def compute_metrics(p):\n",
    "    preds, labels = p\n",
    "    preds = preds.astype(np.float32)\n",
    "    labels = labels.astype(np.float32)\n",
    "    mse = mean_squared_error(labels, preds)\n",
    "    return {\"mse\": mse}\n",
    "\n",
    "\n",
    "wandb.login(key=\"96a47264bf4a345cddba37487838a3c098362dab\")\n",
    "run = wandb.init(project=f\"{MODEL_NAME.split('/')[-1]}\", job_type=\"training\", anonymous=\"allow\")\n",
    "\n",
    "training_args = TrainingArguments(\n",
    "    output_dir=f\"output_{MODEL_NAME.split('/')[-1]}_{wandb.run.name}/Fold{FOLD_ID}\",\n",
    "    bf16=True if torch.cuda.is_bf16_supported() else False,\n",
    "    fp16=False if torch.cuda.is_bf16_supported() else True,\n",
    "    learning_rate=LEARNING_RATE,\n",
    "    per_device_train_batch_size=BATCH_SIZE,\n",
    "    per_device_eval_batch_size=BATCH_SIZE * 2,\n",
    "    gradient_accumulation_steps=ACCUMULATION_STEPS,\n",
    "    warmup_ratio=WARMUP_RATIO,\n",
    "    optim=\"paged_adamw_8bit\",\n",
    "    num_train_epochs=EPOCHS,\n",
    "    weight_decay=WEIGHT_DECAY,\n",
    "    do_eval=True,\n",
    "    evaluation_strategy=\"steps\",\n",
    "    eval_steps=STEPS,\n",
    "    save_total_limit=SAVE_TOTAL_LIMIT,\n",
    "    save_strategy=\"steps\",\n",
    "    save_steps=STEPS,\n",
    "    logging_steps=STEPS,\n",
    "    load_best_model_at_end=True,\n",
    "    metric_for_best_model=\"mse\",\n",
    "    greater_is_better=False,\n",
    "    save_only_model=True,\n",
    "    lr_scheduler_type=LR_SCHEDULER,\n",
    "    gradient_checkpointing=False,\n",
    "    report_to=\"wandb\"\n",
    ")\n",
    "\n",
    "trainer = Trainer(\n",
    "    model=model,\n",
    "    args=training_args,\n",
    "    train_dataset=ds_train,\n",
    "    eval_dataset=ds_val,\n",
    "    tokenizer=tokenizer,\n",
    "    data_collator=DataCollator(),\n",
    "    compute_metrics=compute_metrics\n",
    ")\n",
    "\n",
    "trainer.train()\n",
    "wandb.finish()"
   ]
  }
 ],
 "metadata": {
  "kernelspec": {
   "display_name": "base",
   "language": "python",
   "name": "python3"
  },
  "language_info": {
   "codemirror_mode": {
    "name": "ipython",
    "version": 3
   },
   "file_extension": ".py",
   "mimetype": "text/x-python",
   "name": "python",
   "nbconvert_exporter": "python",
   "pygments_lexer": "ipython3",
   "version": "3.10.9"
  }
 },
 "nbformat": 4,
 "nbformat_minor": 2
}
